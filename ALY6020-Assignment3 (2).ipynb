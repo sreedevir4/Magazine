{
 "cells": [
  {
   "cell_type": "code",
   "execution_count": 2,
   "id": "5fc84a94",
   "metadata": {},
   "outputs": [],
   "source": [
    "import bamboolib as bam #easy to do data manipulation and highly recommend going to https://bamboolib.8080labs.com/ and that will help you follow along\n",
    "import pandas as pd #data manipulation\n",
    "import matplotlib.pyplot as plt\n",
    "import numpy as np\n",
    "import seaborn as sns"
   ]
  },
  {
   "cell_type": "code",
   "execution_count": 285,
   "id": "d044c041",
   "metadata": {},
   "outputs": [],
   "source": [
    "df = pd.read_excel(r'C:\\Users\\sreed\\Downloads\\marketing_campaign.xlsx')"
   ]
  },
  {
   "cell_type": "code",
   "execution_count": 252,
   "id": "f9d12cce",
   "metadata": {},
   "outputs": [
    {
     "data": {
      "application/vnd.jupyter.widget-view+json": {
       "model_id": "a3d2937a7f824a50bdf1c347b04832a9"
      },
      "text/plain": [
       "         ID  Year_Birth   Education Marital_Status   Income  Kidhome  \\\n",
       "0      5524        1957  Graduation         Single  58138.0        0   \n",
       "1      2174        1954  Graduation         Single  46344.0        1   \n",
       "2      4141        1965  Graduation       Together  71613.0        0   \n",
       "3      6182        1984  Graduation       Together  26646.0        1   \n",
       "4      5324        1981         PhD        Married  58293.0        1   \n",
       "...     ...         ...         ...            ...      ...      ...   \n",
       "2235  10870        1967  Graduation        Married  61223.0        0   \n",
       "2236   4001        1946         PhD       Together  64014.0        2   \n",
       "2237   7270        1981  Graduation       Divorced  56981.0        0   \n",
       "2238   8235        1956      Master       Together  69245.0        0   \n",
       "2239   9405        1954         PhD        Married  52869.0        1   \n",
       "\n",
       "      Teenhome Dt_Customer  Recency  MntWines  ...  NumWebVisitsMonth  \\\n",
       "0            0  2012-09-04       58       635  ...                  7   \n",
       "1            1  2014-03-08       38        11  ...                  5   \n",
       "2            0  2013-08-21       26       426  ...                  4   \n",
       "3            0  2014-02-10       26        11  ...                  6   \n",
       "4            0  2014-01-19       94       173  ...                  5   \n",
       "...        ...         ...      ...       ...  ...                ...   \n",
       "2235         1  2013-06-13       46       709  ...                  5   \n",
       "2236         1  2014-06-10       56       406  ...                  7   \n",
       "2237         0  2014-01-25       91       908  ...                  6   \n",
       "2238         1  2014-01-24        8       428  ...                  3   \n",
       "2239         1  2012-10-15       40        84  ...                  7   \n",
       "\n",
       "      AcceptedCmp3  AcceptedCmp4  AcceptedCmp5  AcceptedCmp1  AcceptedCmp2  \\\n",
       "0                0             0             0             0             0   \n",
       "1                0             0             0             0             0   \n",
       "2                0             0             0             0             0   \n",
       "3                0             0             0             0             0   \n",
       "4                0             0             0             0             0   \n",
       "...            ...           ...           ...           ...           ...   \n",
       "2235             0             0             0             0             0   \n",
       "2236             0             0             0             1             0   \n",
       "2237             0             1             0             0             0   \n",
       "2238             0             0             0             0             0   \n",
       "2239             0             0             0             0             0   \n",
       "\n",
       "      Complain  Z_CostContact  Z_Revenue  Response  \n",
       "0            0              3         11         1  \n",
       "1            0              3         11         0  \n",
       "2            0              3         11         0  \n",
       "3            0              3         11         0  \n",
       "4            0              3         11         0  \n",
       "...        ...            ...        ...       ...  \n",
       "2235         0              3         11         0  \n",
       "2236         0              3         11         0  \n",
       "2237         0              3         11         0  \n",
       "2238         0              3         11         0  \n",
       "2239         0              3         11         1  \n",
       "\n",
       "[2240 rows x 29 columns]"
      ]
     },
     "metadata": {},
     "output_type": "display_data"
    }
   ],
   "source": [
    "df"
   ]
  },
  {
   "cell_type": "markdown",
   "id": "0822b982",
   "metadata": {},
   "source": [
    "Master and 2n Cycle are same. Graduation is undergraduate"
   ]
  },
  {
   "cell_type": "code",
   "execution_count": 286,
   "id": "fae7b109",
   "metadata": {},
   "outputs": [],
   "source": [
    "\n",
    "\n",
    "df.loc[df[\"Education\"] == \"Graduation\", \"Education\"] = \"Undergraduate\"\n",
    "df.loc[df[\"Education\"] == \"2n Cycle\", \"Education\"] = \"Master\"\n",
    "\n"
   ]
  },
  {
   "cell_type": "code",
   "execution_count": 39,
   "id": "6e0d0192",
   "metadata": {},
   "outputs": [
    {
     "data": {
      "application/vnd.jupyter.widget-view+json": {
       "model_id": "0aa49993f87c458898baa77affd82b1f"
      },
      "text/plain": [
       "         ID  Year_Birth      Education Marital_Status   Income  Kidhome  \\\n",
       "0      5524        1957  Undergraduate         Single  58138.0        0   \n",
       "1      2174        1954  Undergraduate         Single  46344.0        1   \n",
       "2      4141        1965  Undergraduate       Together  71613.0        0   \n",
       "3      6182        1984  Undergraduate       Together  26646.0        1   \n",
       "4      5324        1981            PhD        Married  58293.0        1   \n",
       "...     ...         ...            ...            ...      ...      ...   \n",
       "2235  10870        1967  Undergraduate        Married  61223.0        0   \n",
       "2236   4001        1946            PhD       Together  64014.0        2   \n",
       "2237   7270        1981  Undergraduate       Divorced  56981.0        0   \n",
       "2238   8235        1956         Master       Together  69245.0        0   \n",
       "2239   9405        1954            PhD        Married  52869.0        1   \n",
       "\n",
       "      Teenhome Dt_Customer  Recency  MntWines  ...  NumWebVisitsMonth  \\\n",
       "0            0  2012-09-04       58       635  ...                  7   \n",
       "1            1  2014-03-08       38        11  ...                  5   \n",
       "2            0  2013-08-21       26       426  ...                  4   \n",
       "3            0  2014-02-10       26        11  ...                  6   \n",
       "4            0  2014-01-19       94       173  ...                  5   \n",
       "...        ...         ...      ...       ...  ...                ...   \n",
       "2235         1  2013-06-13       46       709  ...                  5   \n",
       "2236         1  2014-06-10       56       406  ...                  7   \n",
       "2237         0  2014-01-25       91       908  ...                  6   \n",
       "2238         1  2014-01-24        8       428  ...                  3   \n",
       "2239         1  2012-10-15       40        84  ...                  7   \n",
       "\n",
       "      AcceptedCmp3  AcceptedCmp4  AcceptedCmp5  AcceptedCmp1  AcceptedCmp2  \\\n",
       "0                0             0             0             0             0   \n",
       "1                0             0             0             0             0   \n",
       "2                0             0             0             0             0   \n",
       "3                0             0             0             0             0   \n",
       "4                0             0             0             0             0   \n",
       "...            ...           ...           ...           ...           ...   \n",
       "2235             0             0             0             0             0   \n",
       "2236             0             0             0             1             0   \n",
       "2237             0             1             0             0             0   \n",
       "2238             0             0             0             0             0   \n",
       "2239             0             0             0             0             0   \n",
       "\n",
       "      Complain  Z_CostContact  Z_Revenue  Response  \n",
       "0            0              3         11         1  \n",
       "1            0              3         11         0  \n",
       "2            0              3         11         0  \n",
       "3            0              3         11         0  \n",
       "4            0              3         11         0  \n",
       "...        ...            ...        ...       ...  \n",
       "2235         0              3         11         0  \n",
       "2236         0              3         11         0  \n",
       "2237         0              3         11         0  \n",
       "2238         0              3         11         0  \n",
       "2239         0              3         11         1  \n",
       "\n",
       "[2240 rows x 29 columns]"
      ]
     },
     "metadata": {},
     "output_type": "display_data"
    }
   ],
   "source": [
    "df"
   ]
  },
  {
   "cell_type": "markdown",
   "id": "9e3edfb2",
   "metadata": {},
   "source": [
    "Convert YOLO, Absurd and Alone to Single "
   ]
  },
  {
   "cell_type": "code",
   "execution_count": 287,
   "id": "472cf1e0",
   "metadata": {},
   "outputs": [],
   "source": [
    "df.loc[df[\"Marital_Status\"] == \"YOLO\", \"Marital_Status\"] = \"Single\"\n",
    "df.loc[df[\"Marital_Status\"] == \"Absurd\", \"Marital_Status\"] = \"Single\"\n",
    "df.loc[df[\"Marital_Status\"] == \"Alone\", \"Marital_Status\"] = \"Single\"\n"
   ]
  },
  {
   "cell_type": "code",
   "execution_count": 255,
   "id": "6c422dbd",
   "metadata": {},
   "outputs": [
    {
     "data": {
      "application/vnd.jupyter.widget-view+json": {
       "model_id": "5748f481563c4ad3bf37902a4a631166"
      },
      "text/plain": [
       "         ID  Year_Birth      Education Marital_Status   Income  Kidhome  \\\n",
       "0      5524        1957  Undergraduate         Single  58138.0        0   \n",
       "1      2174        1954  Undergraduate         Single  46344.0        1   \n",
       "2      4141        1965  Undergraduate       Together  71613.0        0   \n",
       "3      6182        1984  Undergraduate       Together  26646.0        1   \n",
       "4      5324        1981            PhD        Married  58293.0        1   \n",
       "...     ...         ...            ...            ...      ...      ...   \n",
       "2235  10870        1967  Undergraduate        Married  61223.0        0   \n",
       "2236   4001        1946            PhD       Together  64014.0        2   \n",
       "2237   7270        1981  Undergraduate       Divorced  56981.0        0   \n",
       "2238   8235        1956         Master       Together  69245.0        0   \n",
       "2239   9405        1954            PhD        Married  52869.0        1   \n",
       "\n",
       "      Teenhome Dt_Customer  Recency  MntWines  ...  NumWebVisitsMonth  \\\n",
       "0            0  2012-09-04       58       635  ...                  7   \n",
       "1            1  2014-03-08       38        11  ...                  5   \n",
       "2            0  2013-08-21       26       426  ...                  4   \n",
       "3            0  2014-02-10       26        11  ...                  6   \n",
       "4            0  2014-01-19       94       173  ...                  5   \n",
       "...        ...         ...      ...       ...  ...                ...   \n",
       "2235         1  2013-06-13       46       709  ...                  5   \n",
       "2236         1  2014-06-10       56       406  ...                  7   \n",
       "2237         0  2014-01-25       91       908  ...                  6   \n",
       "2238         1  2014-01-24        8       428  ...                  3   \n",
       "2239         1  2012-10-15       40        84  ...                  7   \n",
       "\n",
       "      AcceptedCmp3  AcceptedCmp4  AcceptedCmp5  AcceptedCmp1  AcceptedCmp2  \\\n",
       "0                0             0             0             0             0   \n",
       "1                0             0             0             0             0   \n",
       "2                0             0             0             0             0   \n",
       "3                0             0             0             0             0   \n",
       "4                0             0             0             0             0   \n",
       "...            ...           ...           ...           ...           ...   \n",
       "2235             0             0             0             0             0   \n",
       "2236             0             0             0             1             0   \n",
       "2237             0             1             0             0             0   \n",
       "2238             0             0             0             0             0   \n",
       "2239             0             0             0             0             0   \n",
       "\n",
       "      Complain  Z_CostContact  Z_Revenue  Response  \n",
       "0            0              3         11         1  \n",
       "1            0              3         11         0  \n",
       "2            0              3         11         0  \n",
       "3            0              3         11         0  \n",
       "4            0              3         11         0  \n",
       "...        ...            ...        ...       ...  \n",
       "2235         0              3         11         0  \n",
       "2236         0              3         11         0  \n",
       "2237         0              3         11         0  \n",
       "2238         0              3         11         0  \n",
       "2239         0              3         11         1  \n",
       "\n",
       "[2240 rows x 29 columns]"
      ]
     },
     "metadata": {},
     "output_type": "display_data"
    }
   ],
   "source": [
    "df"
   ]
  },
  {
   "cell_type": "markdown",
   "id": "09103c1f",
   "metadata": {},
   "source": [
    "Replace missing values in income with median "
   ]
  },
  {
   "cell_type": "code",
   "execution_count": 288,
   "id": "dd064fb0",
   "metadata": {},
   "outputs": [],
   "source": [
    "df[['Income']] = df[['Income']].fillna(df[['Income']].median())\n"
   ]
  },
  {
   "cell_type": "markdown",
   "id": "81d87dd4",
   "metadata": {},
   "source": [
    "Change datatype of date customer to datetime"
   ]
  },
  {
   "cell_type": "code",
   "execution_count": 289,
   "id": "8ade2e8d",
   "metadata": {},
   "outputs": [],
   "source": [
    "df['Dt_Customer']= pd.to_datetime(df['Dt_Customer'])\n"
   ]
  },
  {
   "cell_type": "code",
   "execution_count": 49,
   "id": "098d507b",
   "metadata": {},
   "outputs": [
    {
     "data": {
      "application/vnd.jupyter.widget-view+json": {
       "model_id": "acac04baf5b249b5bf394dd928942705"
      },
      "text/plain": [
       "         ID  Year_Birth      Education Marital_Status   Income  Kidhome  \\\n",
       "0      5524        1957  Undergraduate         Single  58138.0        0   \n",
       "1      2174        1954  Undergraduate         Single  46344.0        1   \n",
       "2      4141        1965  Undergraduate       Together  71613.0        0   \n",
       "3      6182        1984  Undergraduate       Together  26646.0        1   \n",
       "4      5324        1981            PhD        Married  58293.0        1   \n",
       "...     ...         ...            ...            ...      ...      ...   \n",
       "2235  10870        1967  Undergraduate        Married  61223.0        0   \n",
       "2236   4001        1946            PhD       Together  64014.0        2   \n",
       "2237   7270        1981  Undergraduate       Divorced  56981.0        0   \n",
       "2238   8235        1956         Master       Together  69245.0        0   \n",
       "2239   9405        1954            PhD        Married  52869.0        1   \n",
       "\n",
       "      Teenhome Dt_Customer  Recency  MntWines  ...  NumWebVisitsMonth  \\\n",
       "0            0  2012-09-04       58       635  ...                  7   \n",
       "1            1  2014-03-08       38        11  ...                  5   \n",
       "2            0  2013-08-21       26       426  ...                  4   \n",
       "3            0  2014-02-10       26        11  ...                  6   \n",
       "4            0  2014-01-19       94       173  ...                  5   \n",
       "...        ...         ...      ...       ...  ...                ...   \n",
       "2235         1  2013-06-13       46       709  ...                  5   \n",
       "2236         1  2014-06-10       56       406  ...                  7   \n",
       "2237         0  2014-01-25       91       908  ...                  6   \n",
       "2238         1  2014-01-24        8       428  ...                  3   \n",
       "2239         1  2012-10-15       40        84  ...                  7   \n",
       "\n",
       "      AcceptedCmp3  AcceptedCmp4  AcceptedCmp5  AcceptedCmp1  AcceptedCmp2  \\\n",
       "0                0             0             0             0             0   \n",
       "1                0             0             0             0             0   \n",
       "2                0             0             0             0             0   \n",
       "3                0             0             0             0             0   \n",
       "4                0             0             0             0             0   \n",
       "...            ...           ...           ...           ...           ...   \n",
       "2235             0             0             0             0             0   \n",
       "2236             0             0             0             1             0   \n",
       "2237             0             1             0             0             0   \n",
       "2238             0             0             0             0             0   \n",
       "2239             0             0             0             0             0   \n",
       "\n",
       "      Complain  Z_CostContact  Z_Revenue  Response  \n",
       "0            0              3         11         1  \n",
       "1            0              3         11         0  \n",
       "2            0              3         11         0  \n",
       "3            0              3         11         0  \n",
       "4            0              3         11         0  \n",
       "...        ...            ...        ...       ...  \n",
       "2235         0              3         11         0  \n",
       "2236         0              3         11         0  \n",
       "2237         0              3         11         0  \n",
       "2238         0              3         11         0  \n",
       "2239         0              3         11         1  \n",
       "\n",
       "[2240 rows x 29 columns]"
      ]
     },
     "metadata": {},
     "output_type": "display_data"
    }
   ],
   "source": [
    "df"
   ]
  },
  {
   "cell_type": "code",
   "execution_count": 290,
   "id": "12c10274",
   "metadata": {},
   "outputs": [],
   "source": [
    "from datetime import date\n",
    "today = date. today()\n",
    "#age = today.year - df['Year_Birth']\n",
    "df['Age'] = df.apply(lambda row: today.year -\n",
    "                                  (row.Year_Birth), axis = 1)"
   ]
  },
  {
   "cell_type": "code",
   "execution_count": 51,
   "id": "c57c2327",
   "metadata": {},
   "outputs": [
    {
     "data": {
      "application/vnd.jupyter.widget-view+json": {
       "model_id": "a9fb808145c541c681dc6ca672bb7dc3"
      },
      "text/plain": [
       "         ID  Year_Birth      Education Marital_Status   Income  Kidhome  \\\n",
       "0      5524        1957  Undergraduate         Single  58138.0        0   \n",
       "1      2174        1954  Undergraduate         Single  46344.0        1   \n",
       "2      4141        1965  Undergraduate       Together  71613.0        0   \n",
       "3      6182        1984  Undergraduate       Together  26646.0        1   \n",
       "4      5324        1981            PhD        Married  58293.0        1   \n",
       "...     ...         ...            ...            ...      ...      ...   \n",
       "2235  10870        1967  Undergraduate        Married  61223.0        0   \n",
       "2236   4001        1946            PhD       Together  64014.0        2   \n",
       "2237   7270        1981  Undergraduate       Divorced  56981.0        0   \n",
       "2238   8235        1956         Master       Together  69245.0        0   \n",
       "2239   9405        1954            PhD        Married  52869.0        1   \n",
       "\n",
       "      Teenhome Dt_Customer  Recency  MntWines  ...  AcceptedCmp3  \\\n",
       "0            0  2012-09-04       58       635  ...             0   \n",
       "1            1  2014-03-08       38        11  ...             0   \n",
       "2            0  2013-08-21       26       426  ...             0   \n",
       "3            0  2014-02-10       26        11  ...             0   \n",
       "4            0  2014-01-19       94       173  ...             0   \n",
       "...        ...         ...      ...       ...  ...           ...   \n",
       "2235         1  2013-06-13       46       709  ...             0   \n",
       "2236         1  2014-06-10       56       406  ...             0   \n",
       "2237         0  2014-01-25       91       908  ...             0   \n",
       "2238         1  2014-01-24        8       428  ...             0   \n",
       "2239         1  2012-10-15       40        84  ...             0   \n",
       "\n",
       "      AcceptedCmp4  AcceptedCmp5  AcceptedCmp1  AcceptedCmp2  Complain  \\\n",
       "0                0             0             0             0         0   \n",
       "1                0             0             0             0         0   \n",
       "2                0             0             0             0         0   \n",
       "3                0             0             0             0         0   \n",
       "4                0             0             0             0         0   \n",
       "...            ...           ...           ...           ...       ...   \n",
       "2235             0             0             0             0         0   \n",
       "2236             0             0             1             0         0   \n",
       "2237             1             0             0             0         0   \n",
       "2238             0             0             0             0         0   \n",
       "2239             0             0             0             0         0   \n",
       "\n",
       "      Z_CostContact  Z_Revenue  Response  Age  \n",
       "0                 3         11         1   65  \n",
       "1                 3         11         0   68  \n",
       "2                 3         11         0   57  \n",
       "3                 3         11         0   38  \n",
       "4                 3         11         0   41  \n",
       "...             ...        ...       ...  ...  \n",
       "2235              3         11         0   55  \n",
       "2236              3         11         0   76  \n",
       "2237              3         11         0   41  \n",
       "2238              3         11         0   66  \n",
       "2239              3         11         1   68  \n",
       "\n",
       "[2240 rows x 30 columns]"
      ]
     },
     "metadata": {},
     "output_type": "display_data"
    }
   ],
   "source": [
    "df"
   ]
  },
  {
   "cell_type": "code",
   "execution_count": 52,
   "id": "8c73297c",
   "metadata": {
    "scrolled": true
   },
   "outputs": [
    {
     "name": "stdout",
     "output_type": "stream",
     "text": [
      "ID\n",
      "Year_Birth\n",
      "Education\n",
      "Marital_Status\n",
      "Income\n",
      "Kidhome\n",
      "Teenhome\n",
      "Dt_Customer\n",
      "Recency\n",
      "MntWines\n",
      "MntFruits\n",
      "MntMeatProducts\n",
      "MntFishProducts\n",
      "MntSweetProducts\n",
      "MntGoldProds\n",
      "NumDealsPurchases\n",
      "NumWebPurchases\n",
      "NumCatalogPurchases\n",
      "NumStorePurchases\n",
      "NumWebVisitsMonth\n",
      "AcceptedCmp3\n",
      "AcceptedCmp4\n",
      "AcceptedCmp5\n",
      "AcceptedCmp1\n",
      "AcceptedCmp2\n",
      "Complain\n",
      "Z_CostContact\n",
      "Z_Revenue\n",
      "Response\n",
      "Age\n"
     ]
    }
   ],
   "source": [
    "for col in df.columns:\n",
    "    print(col)"
   ]
  },
  {
   "cell_type": "code",
   "execution_count": 291,
   "id": "f3d9b1d8",
   "metadata": {},
   "outputs": [],
   "source": [
    "df = df[df['Age'] <= 120]\n"
   ]
  },
  {
   "cell_type": "code",
   "execution_count": 54,
   "id": "2228faf4",
   "metadata": {},
   "outputs": [
    {
     "data": {
      "application/vnd.jupyter.widget-view+json": {
       "model_id": "1d1abb4596e24e7c97bd0ceec24cc4fc"
      },
      "text/plain": [
       "         ID  Year_Birth      Education Marital_Status   Income  Kidhome  \\\n",
       "0      5524        1957  Undergraduate         Single  58138.0        0   \n",
       "1      2174        1954  Undergraduate         Single  46344.0        1   \n",
       "2      4141        1965  Undergraduate       Together  71613.0        0   \n",
       "3      6182        1984  Undergraduate       Together  26646.0        1   \n",
       "4      5324        1981            PhD        Married  58293.0        1   \n",
       "...     ...         ...            ...            ...      ...      ...   \n",
       "2235  10870        1967  Undergraduate        Married  61223.0        0   \n",
       "2236   4001        1946            PhD       Together  64014.0        2   \n",
       "2237   7270        1981  Undergraduate       Divorced  56981.0        0   \n",
       "2238   8235        1956         Master       Together  69245.0        0   \n",
       "2239   9405        1954            PhD        Married  52869.0        1   \n",
       "\n",
       "      Teenhome Dt_Customer  Recency  MntWines  ...  AcceptedCmp3  \\\n",
       "0            0  2012-09-04       58       635  ...             0   \n",
       "1            1  2014-03-08       38        11  ...             0   \n",
       "2            0  2013-08-21       26       426  ...             0   \n",
       "3            0  2014-02-10       26        11  ...             0   \n",
       "4            0  2014-01-19       94       173  ...             0   \n",
       "...        ...         ...      ...       ...  ...           ...   \n",
       "2235         1  2013-06-13       46       709  ...             0   \n",
       "2236         1  2014-06-10       56       406  ...             0   \n",
       "2237         0  2014-01-25       91       908  ...             0   \n",
       "2238         1  2014-01-24        8       428  ...             0   \n",
       "2239         1  2012-10-15       40        84  ...             0   \n",
       "\n",
       "      AcceptedCmp4  AcceptedCmp5  AcceptedCmp1  AcceptedCmp2  Complain  \\\n",
       "0                0             0             0             0         0   \n",
       "1                0             0             0             0         0   \n",
       "2                0             0             0             0         0   \n",
       "3                0             0             0             0         0   \n",
       "4                0             0             0             0         0   \n",
       "...            ...           ...           ...           ...       ...   \n",
       "2235             0             0             0             0         0   \n",
       "2236             0             0             1             0         0   \n",
       "2237             1             0             0             0         0   \n",
       "2238             0             0             0             0         0   \n",
       "2239             0             0             0             0         0   \n",
       "\n",
       "      Z_CostContact  Z_Revenue  Response  Age  \n",
       "0                 3         11         1   65  \n",
       "1                 3         11         0   68  \n",
       "2                 3         11         0   57  \n",
       "3                 3         11         0   38  \n",
       "4                 3         11         0   41  \n",
       "...             ...        ...       ...  ...  \n",
       "2235              3         11         0   55  \n",
       "2236              3         11         0   76  \n",
       "2237              3         11         0   41  \n",
       "2238              3         11         0   66  \n",
       "2239              3         11         1   68  \n",
       "\n",
       "[2237 rows x 30 columns]"
      ]
     },
     "metadata": {},
     "output_type": "display_data"
    }
   ],
   "source": [
    "df"
   ]
  },
  {
   "cell_type": "code",
   "execution_count": 292,
   "id": "1bca322e",
   "metadata": {},
   "outputs": [
    {
     "data": {
      "application/vnd.jupyter.widget-view+json": {
       "model_id": "9bf6340c0f9c49c4887e68064a711083"
      },
      "text/plain": [
       "         ID  Year_Birth Marital_Status   Income  Kidhome  Teenhome  \\\n",
       "0      5524        1957         Single  58138.0        0         0   \n",
       "1      2174        1954         Single  46344.0        1         1   \n",
       "2      4141        1965       Together  71613.0        0         0   \n",
       "3      6182        1984       Together  26646.0        1         0   \n",
       "4      5324        1981        Married  58293.0        1         0   \n",
       "...     ...         ...            ...      ...      ...       ...   \n",
       "2235  10870        1967        Married  61223.0        0         1   \n",
       "2236   4001        1946       Together  64014.0        2         1   \n",
       "2237   7270        1981       Divorced  56981.0        0         0   \n",
       "2238   8235        1956       Together  69245.0        0         1   \n",
       "2239   9405        1954        Married  52869.0        1         1   \n",
       "\n",
       "     Dt_Customer  Recency  MntWines  MntFruits  ...  AcceptedCmp1  \\\n",
       "0     2012-09-04       58       635         88  ...             0   \n",
       "1     2014-03-08       38        11          1  ...             0   \n",
       "2     2013-08-21       26       426         49  ...             0   \n",
       "3     2014-02-10       26        11          4  ...             0   \n",
       "4     2014-01-19       94       173         43  ...             0   \n",
       "...          ...      ...       ...        ...  ...           ...   \n",
       "2235  2013-06-13       46       709         43  ...             0   \n",
       "2236  2014-06-10       56       406          0  ...             1   \n",
       "2237  2014-01-25       91       908         48  ...             0   \n",
       "2238  2014-01-24        8       428         30  ...             0   \n",
       "2239  2012-10-15       40        84          3  ...             0   \n",
       "\n",
       "      AcceptedCmp2  Complain  Z_CostContact  Z_Revenue  Response  Age  \\\n",
       "0                0         0              3         11         1   65   \n",
       "1                0         0              3         11         0   68   \n",
       "2                0         0              3         11         0   57   \n",
       "3                0         0              3         11         0   38   \n",
       "4                0         0              3         11         0   41   \n",
       "...            ...       ...            ...        ...       ...  ...   \n",
       "2235             0         0              3         11         0   55   \n",
       "2236             0         0              3         11         0   76   \n",
       "2237             0         0              3         11         0   41   \n",
       "2238             0         0              3         11         0   66   \n",
       "2239             0         0              3         11         1   68   \n",
       "\n",
       "      Education_Master  Education_PhD  Education_Undergraduate  \n",
       "0                    0              0                        1  \n",
       "1                    0              0                        1  \n",
       "2                    0              0                        1  \n",
       "3                    0              0                        1  \n",
       "4                    0              1                        0  \n",
       "...                ...            ...                      ...  \n",
       "2235                 0              0                        1  \n",
       "2236                 0              1                        0  \n",
       "2237                 0              0                        1  \n",
       "2238                 1              0                        0  \n",
       "2239                 0              1                        0  \n",
       "\n",
       "[2237 rows x 32 columns]"
      ]
     },
     "metadata": {},
     "output_type": "display_data"
    }
   ],
   "source": [
    "df = pd.get_dummies(df, columns=['Education'],  drop_first = True)\n",
    "\n",
    "df"
   ]
  },
  {
   "cell_type": "code",
   "execution_count": 294,
   "id": "135a7e14",
   "metadata": {},
   "outputs": [
    {
     "data": {
      "application/vnd.jupyter.widget-view+json": {
       "model_id": "90142b221cac4687b68aae1d9f97255d"
      },
      "text/plain": [
       "         ID  Year_Birth   Income  Kidhome  Teenhome Dt_Customer  Recency  \\\n",
       "0      5524        1957  58138.0        0         0  2012-09-04       58   \n",
       "1      2174        1954  46344.0        1         1  2014-03-08       38   \n",
       "2      4141        1965  71613.0        0         0  2013-08-21       26   \n",
       "3      6182        1984  26646.0        1         0  2014-02-10       26   \n",
       "4      5324        1981  58293.0        1         0  2014-01-19       94   \n",
       "...     ...         ...      ...      ...       ...         ...      ...   \n",
       "2235  10870        1967  61223.0        0         1  2013-06-13       46   \n",
       "2236   4001        1946  64014.0        2         1  2014-06-10       56   \n",
       "2237   7270        1981  56981.0        0         0  2014-01-25       91   \n",
       "2238   8235        1956  69245.0        0         1  2014-01-24        8   \n",
       "2239   9405        1954  52869.0        1         1  2012-10-15       40   \n",
       "\n",
       "      MntWines  MntFruits  MntMeatProducts  ...  Z_Revenue  Response  Age  \\\n",
       "0          635         88              546  ...         11         1   65   \n",
       "1           11          1                6  ...         11         0   68   \n",
       "2          426         49              127  ...         11         0   57   \n",
       "3           11          4               20  ...         11         0   38   \n",
       "4          173         43              118  ...         11         0   41   \n",
       "...        ...        ...              ...  ...        ...       ...  ...   \n",
       "2235       709         43              182  ...         11         0   55   \n",
       "2236       406          0               30  ...         11         0   76   \n",
       "2237       908         48              217  ...         11         0   41   \n",
       "2238       428         30              214  ...         11         0   66   \n",
       "2239        84          3               61  ...         11         1   68   \n",
       "\n",
       "      Education_Master  Education_PhD  Education_Undergraduate  \\\n",
       "0                    0              0                        1   \n",
       "1                    0              0                        1   \n",
       "2                    0              0                        1   \n",
       "3                    0              0                        1   \n",
       "4                    0              1                        0   \n",
       "...                ...            ...                      ...   \n",
       "2235                 0              0                        1   \n",
       "2236                 0              1                        0   \n",
       "2237                 0              0                        1   \n",
       "2238                 1              0                        0   \n",
       "2239                 0              1                        0   \n",
       "\n",
       "      Marital_Status_Married  Marital_Status_Single  Marital_Status_Together  \\\n",
       "0                          0                      1                        0   \n",
       "1                          0                      1                        0   \n",
       "2                          0                      0                        1   \n",
       "3                          0                      0                        1   \n",
       "4                          1                      0                        0   \n",
       "...                      ...                    ...                      ...   \n",
       "2235                       1                      0                        0   \n",
       "2236                       0                      0                        1   \n",
       "2237                       0                      0                        0   \n",
       "2238                       0                      0                        1   \n",
       "2239                       1                      0                        0   \n",
       "\n",
       "      Marital_Status_Widow  \n",
       "0                        0  \n",
       "1                        0  \n",
       "2                        0  \n",
       "3                        0  \n",
       "4                        0  \n",
       "...                    ...  \n",
       "2235                     0  \n",
       "2236                     0  \n",
       "2237                     0  \n",
       "2238                     0  \n",
       "2239                     0  \n",
       "\n",
       "[2237 rows x 35 columns]"
      ]
     },
     "metadata": {},
     "output_type": "display_data"
    }
   ],
   "source": [
    "df = pd.get_dummies(df, columns=['Marital_Status'], drop_first = True)\n",
    "\n",
    "df"
   ]
  },
  {
   "cell_type": "code",
   "execution_count": 295,
   "id": "a7355b32",
   "metadata": {},
   "outputs": [
    {
     "name": "stdout",
     "output_type": "stream",
     "text": [
      "                    feature         VIF\n",
      "0                    Income    2.199974\n",
      "1                   Kidhome    1.875355\n",
      "2                  Teenhome    1.613900\n",
      "3                   Recency    1.008551\n",
      "4                  MntWines    2.848439\n",
      "5                 MntFruits    1.945879\n",
      "6           MntMeatProducts    2.881439\n",
      "7           MntFishProducts    2.104923\n",
      "8          MntSweetProducts    1.912935\n",
      "9              MntGoldProds    1.519245\n",
      "10        NumDealsPurchases    1.658799\n",
      "11          NumWebPurchases    1.927028\n",
      "12      NumCatalogPurchases    2.980676\n",
      "13        NumStorePurchases    2.352714\n",
      "14        NumWebVisitsMonth    2.282571\n",
      "15             AcceptedCmp1    1.227431\n",
      "16            Z_CostContact  104.530575\n",
      "17                      Age    1.298384\n",
      "18         Education_Master    9.148227\n",
      "19            Education_PhD    8.566098\n",
      "20  Education_Undergraduate   11.572186\n",
      "21   Marital_Status_Married    2.940062\n",
      "22    Marital_Status_Single    2.485269\n",
      "23  Marital_Status_Together    2.617173\n",
      "24     Marital_Status_Widow    1.311292\n"
     ]
    }
   ],
   "source": [
    "from statsmodels.stats.outliers_influence import variance_inflation_factor\n",
    "vif_data = pd.DataFrame()\n",
    "test = df.drop(['Response','AcceptedCmp5','ID','Year_Birth','AcceptedCmp2','AcceptedCmp3','AcceptedCmp4','AcceptedCmp5','Complain','Z_Revenue','Dt_Customer'],axis=1)\n",
    "vif_data[\"feature\"] = test.columns\n",
    "\n",
    "# calculating VIF for each feature\n",
    "vif_data[\"VIF\"] = [variance_inflation_factor(test.values, i)\n",
    "                          for i in range(len(test.columns))]\n",
    "  \n",
    "print(vif_data)"
   ]
  },
  {
   "cell_type": "code",
   "execution_count": 296,
   "id": "93d17f63",
   "metadata": {},
   "outputs": [
    {
     "name": "stdout",
     "output_type": "stream",
     "text": [
      "                    feature       VIF\n",
      "0                    Income  9.465001\n",
      "1                   Kidhome  2.939774\n",
      "2                  Teenhome  2.650447\n",
      "3                   Recency  3.621852\n",
      "4                  MntWines  4.927107\n",
      "5                 MntFruits  2.793996\n",
      "6           MntMeatProducts  4.428260\n",
      "7           MntFishProducts  3.090606\n",
      "8          MntSweetProducts  2.729060\n",
      "9              MntGoldProds  2.586021\n",
      "10        NumDealsPurchases  3.946138\n",
      "11          NumWebPurchases  6.062276\n",
      "12      NumCatalogPurchases  5.337865\n",
      "13        NumStorePurchases  8.743050\n",
      "14        NumWebVisitsMonth  7.640274\n",
      "15             AcceptedCmp1  1.311858\n",
      "16         Education_Master  1.467946\n",
      "17            Education_PhD  1.552001\n",
      "18   Marital_Status_Married  3.890776\n",
      "19    Marital_Status_Single  2.616101\n",
      "20  Marital_Status_Together  2.948095\n",
      "21     Marital_Status_Widow  1.264986\n"
     ]
    }
   ],
   "source": [
    "from statsmodels.stats.outliers_influence import variance_inflation_factor\n",
    "vif_data = pd.DataFrame()\n",
    "test = df.drop(['Response','Education_Undergraduate','Age','Z_CostContact','AcceptedCmp5','ID','Year_Birth','AcceptedCmp2','AcceptedCmp3','AcceptedCmp4','AcceptedCmp5','Complain','Z_Revenue','Dt_Customer'],axis=1)\n",
    "vif_data[\"feature\"] = test.columns\n",
    "\n",
    "# calculating VIF for each feature\n",
    "vif_data[\"VIF\"] = [variance_inflation_factor(test.values, i)\n",
    "                          for i in range(len(test.columns))]\n",
    "  \n",
    "print(vif_data)"
   ]
  },
  {
   "cell_type": "code",
   "execution_count": 250,
   "id": "6472a39c",
   "metadata": {},
   "outputs": [
    {
     "data": {
      "application/vnd.jupyter.widget-view+json": {
       "model_id": "cdd799b86d63484bb8985302440374ac"
      },
      "text/plain": [
       "         ID  Year_Birth   Income  Kidhome  Teenhome Dt_Customer  Recency  \\\n",
       "0      5524        1957  58138.0        0         0  2012-09-04       58   \n",
       "1      2174        1954  46344.0        1         1  2014-03-08       38   \n",
       "2      4141        1965  71613.0        0         0  2013-08-21       26   \n",
       "3      6182        1984  26646.0        1         0  2014-02-10       26   \n",
       "4      5324        1981  58293.0        1         0  2014-01-19       94   \n",
       "...     ...         ...      ...      ...       ...         ...      ...   \n",
       "2235  10870        1967  61223.0        0         1  2013-06-13       46   \n",
       "2236   4001        1946  64014.0        2         1  2014-06-10       56   \n",
       "2237   7270        1981  56981.0        0         0  2014-01-25       91   \n",
       "2238   8235        1956  69245.0        0         1  2014-01-24        8   \n",
       "2239   9405        1954  52869.0        1         1  2012-10-15       40   \n",
       "\n",
       "      MntWines  MntFruits  MntMeatProducts  ...  Z_Revenue  Response  Age  \\\n",
       "0          635         88              546  ...         11         1   65   \n",
       "1           11          1                6  ...         11         0   68   \n",
       "2          426         49              127  ...         11         0   57   \n",
       "3           11          4               20  ...         11         0   38   \n",
       "4          173         43              118  ...         11         0   41   \n",
       "...        ...        ...              ...  ...        ...       ...  ...   \n",
       "2235       709         43              182  ...         11         0   55   \n",
       "2236       406          0               30  ...         11         0   76   \n",
       "2237       908         48              217  ...         11         0   41   \n",
       "2238       428         30              214  ...         11         0   66   \n",
       "2239        84          3               61  ...         11         1   68   \n",
       "\n",
       "      Education_Master  Education_PhD  Education_Undergraduate  \\\n",
       "0                    0              0                        1   \n",
       "1                    0              0                        1   \n",
       "2                    0              0                        1   \n",
       "3                    0              0                        1   \n",
       "4                    0              1                        0   \n",
       "...                ...            ...                      ...   \n",
       "2235                 0              0                        1   \n",
       "2236                 0              1                        0   \n",
       "2237                 0              0                        1   \n",
       "2238                 1              0                        0   \n",
       "2239                 0              1                        0   \n",
       "\n",
       "      Marital_Status_Married  Marital_Status_Single  Marital_Status_Together  \\\n",
       "0                          0                      1                        0   \n",
       "1                          0                      1                        0   \n",
       "2                          0                      0                        1   \n",
       "3                          0                      0                        1   \n",
       "4                          1                      0                        0   \n",
       "...                      ...                    ...                      ...   \n",
       "2235                       1                      0                        0   \n",
       "2236                       0                      0                        1   \n",
       "2237                       0                      0                        0   \n",
       "2238                       0                      0                        1   \n",
       "2239                       1                      0                        0   \n",
       "\n",
       "      Marital_Status_Widow  \n",
       "0                        0  \n",
       "1                        0  \n",
       "2                        0  \n",
       "3                        0  \n",
       "4                        0  \n",
       "...                    ...  \n",
       "2235                     0  \n",
       "2236                     0  \n",
       "2237                     0  \n",
       "2238                     0  \n",
       "2239                     0  \n",
       "\n",
       "[2237 rows x 35 columns]"
      ]
     },
     "metadata": {},
     "output_type": "display_data"
    }
   ],
   "source": [
    "df"
   ]
  },
  {
   "cell_type": "code",
   "execution_count": 305,
   "id": "baa047ae",
   "metadata": {},
   "outputs": [],
   "source": [
    "y_logr= df[['AcceptedCmp1']]\n",
    "x_logr= df.drop(['AcceptedCmp1','Education_Undergraduate','Z_CostContact','ID','Year_Birth','AcceptedCmp2','AcceptedCmp3','AcceptedCmp4','AcceptedCmp5','Complain','Z_Revenue','Dt_Customer','Response'],axis=1)\n",
    "\n",
    "from sklearn.model_selection import train_test_split\n",
    "x_train, x_test, z_train, z_test = train_test_split(x_logr, y_logr, test_size=0.20)"
   ]
  },
  {
   "cell_type": "code",
   "execution_count": 218,
   "id": "b0c15cde",
   "metadata": {},
   "outputs": [
    {
     "data": {
      "application/vnd.jupyter.widget-view+json": {
       "model_id": "bf3817ca57e945f5b04e327c687bc8ab"
      },
      "text/plain": [
       "      AcceptedCmp1\n",
       "1130             0\n",
       "1257             0\n",
       "1586             0\n",
       "1731             0\n",
       "525              0\n",
       "...            ...\n",
       "689              0\n",
       "2065             0\n",
       "1506             0\n",
       "538              0\n",
       "784              0\n",
       "\n",
       "[448 rows x 1 columns]"
      ]
     },
     "metadata": {},
     "output_type": "display_data"
    }
   ],
   "source": [
    "#(z_train.head(10))\n",
    "z_test"
   ]
  },
  {
   "cell_type": "code",
   "execution_count": 306,
   "id": "2495283d",
   "metadata": {},
   "outputs": [
    {
     "name": "stdout",
     "output_type": "stream",
     "text": [
      "Optimization terminated successfully.\n",
      "         Current function value: 0.161520\n",
      "         Iterations 9\n",
      "                           Logit Regression Results                           \n",
      "==============================================================================\n",
      "Dep. Variable:           AcceptedCmp1   No. Observations:                 1789\n",
      "Model:                          Logit   Df Residuals:                     1766\n",
      "Method:                           MLE   Df Model:                           22\n",
      "Date:                Sun, 20 Nov 2022   Pseudo R-squ.:                  0.3230\n",
      "Time:                        20:38:42   Log-Likelihood:                -288.96\n",
      "converged:                       True   LL-Null:                       -426.84\n",
      "Covariance Type:            nonrobust   LLR p-value:                 9.735e-46\n",
      "===========================================================================================\n",
      "                              coef    std err          z      P>|z|      [0.025      0.975]\n",
      "-------------------------------------------------------------------------------------------\n",
      "const                      -5.4492      0.910     -5.991      0.000      -7.232      -3.666\n",
      "Income                    9.76e-06    3.3e-06      2.961      0.003     3.3e-06    1.62e-05\n",
      "Kidhome                     0.0617      0.433      0.143      0.887      -0.787       0.910\n",
      "Teenhome                   -0.6869      0.324     -2.123      0.034      -1.321      -0.053\n",
      "Recency                    -0.0029      0.004     -0.759      0.448      -0.010       0.005\n",
      "MntWines                    0.0024      0.000      6.674      0.000       0.002       0.003\n",
      "MntFruits                  -0.0036      0.003     -1.387      0.166      -0.009       0.001\n",
      "MntMeatProducts             0.0002      0.001      0.444      0.657      -0.001       0.001\n",
      "MntFishProducts             0.0035      0.002      1.833      0.067      -0.000       0.007\n",
      "MntSweetProducts            0.0043      0.002      1.767      0.077      -0.000       0.009\n",
      "MntGoldProds                0.0018      0.002      0.988      0.323      -0.002       0.006\n",
      "NumDealsPurchases          -0.1836      0.104     -1.758      0.079      -0.388       0.021\n",
      "NumWebPurchases             0.1304      0.046      2.806      0.005       0.039       0.221\n",
      "NumCatalogPurchases         0.1397      0.043      3.240      0.001       0.055       0.224\n",
      "NumStorePurchases          -0.0295      0.038     -0.773      0.439      -0.104       0.045\n",
      "NumWebVisitsMonth          -0.0166      0.071     -0.233      0.816      -0.157       0.123\n",
      "Age                         0.0037      0.009      0.404      0.686      -0.014       0.021\n",
      "Education_Master           -0.0843      0.279     -0.302      0.763      -0.631       0.463\n",
      "Education_PhD              -0.4153      0.311     -1.333      0.183      -1.026       0.195\n",
      "Marital_Status_Married      0.4447      0.395      1.125      0.261      -0.330       1.219\n",
      "Marital_Status_Single      -0.1582      0.444     -0.356      0.722      -1.029       0.713\n",
      "Marital_Status_Together    -0.2923      0.431     -0.678      0.498      -1.137       0.553\n",
      "Marital_Status_Widow       -0.7075      0.840     -0.842      0.400      -2.353       0.939\n",
      "===========================================================================================\n"
     ]
    }
   ],
   "source": [
    "import statsmodels.api as sm\n",
    "\n",
    "\n",
    "Xlog2 = sm.add_constant(x_train) \n",
    "logr_model = sm.Logit(z_train, Xlog2) \n",
    "logr_fit = logr_model.fit()\n",
    "print(logr_fit.summary())\n"
   ]
  },
  {
   "cell_type": "code",
   "execution_count": 307,
   "id": "4a1ea38b",
   "metadata": {},
   "outputs": [
    {
     "data": {
      "text/plain": [
       "array([[413,   6],\n",
       "       [ 25,   4]], dtype=int64)"
      ]
     },
     "execution_count": 307,
     "metadata": {},
     "output_type": "execute_result"
    }
   ],
   "source": [
    "from sklearn.linear_model import LogisticRegression\n",
    "from sklearn.metrics import confusion_matrix\n",
    "\n",
    "logreg = LogisticRegression()\n",
    "\n",
    "logreg.fit(x_train,z_train)\n",
    "\n",
    "\n",
    "z_pred = logreg.predict(x_test)\n",
    "cnf_matrix = confusion_matrix(z_test, z_pred)\n",
    "cnf_matrix\n"
   ]
  },
  {
   "cell_type": "code",
   "execution_count": 308,
   "id": "525ca3de",
   "metadata": {},
   "outputs": [
    {
     "name": "stdout",
     "output_type": "stream",
     "text": [
      "Classification report for balanced classes \n",
      "               precision    recall  f1-score   support\n",
      "\n",
      "           0       0.99      0.77      0.87       419\n",
      "           1       0.21      0.90      0.34        29\n",
      "\n",
      "    accuracy                           0.78       448\n",
      "   macro avg       0.60      0.83      0.61       448\n",
      "weighted avg       0.94      0.78      0.83       448\n",
      "\n"
     ]
    }
   ],
   "source": [
    "from sklearn.linear_model import LogisticRegression\n",
    "from sklearn.metrics import classification_report\n",
    "\n",
    "lr_bal=LogisticRegression(random_state=42,class_weight='balanced')\n",
    "lr_bal_model=lr_bal.fit(x_train,z_train)\n",
    "y_pred_cmp=lr_bal_model.predict(x_test)\n",
    "print('Classification report for balanced classes \\n',classification_report(z_test,y_pred_cmp))\n",
    "\n"
   ]
  },
  {
   "cell_type": "code",
   "execution_count": 309,
   "id": "7637bfcd",
   "metadata": {},
   "outputs": [
    {
     "data": {
      "text/plain": [
       "array([[323,  96],\n",
       "       [  3,  26]], dtype=int64)"
      ]
     },
     "execution_count": 309,
     "metadata": {},
     "output_type": "execute_result"
    }
   ],
   "source": [
    "cnf_matrix = confusion_matrix(z_test, y_pred_cmp)\n",
    "cnf_matrix\n"
   ]
  },
  {
   "cell_type": "markdown",
   "id": "5717644e",
   "metadata": {},
   "source": [
    "Choose significant variables"
   ]
  },
  {
   "cell_type": "code",
   "execution_count": 326,
   "id": "7480cf31",
   "metadata": {},
   "outputs": [],
   "source": [
    "y_logr= df[['AcceptedCmp1']]\n",
    "x_logr= df[['NumCatalogPurchases','Teenhome','MntWines']]\n",
    "from sklearn.model_selection import train_test_split\n",
    "x_train, x_test, z_train, z_test = train_test_split(x_logr, y_logr, test_size=0.20)"
   ]
  },
  {
   "cell_type": "code",
   "execution_count": 322,
   "id": "c1e3da98",
   "metadata": {},
   "outputs": [
    {
     "name": "stdout",
     "output_type": "stream",
     "text": [
      "Optimization terminated successfully.\n",
      "         Current function value: 0.178846\n",
      "         Iterations 8\n",
      "                           Logit Regression Results                           \n",
      "==============================================================================\n",
      "Dep. Variable:           AcceptedCmp1   No. Observations:                 1789\n",
      "Model:                          Logit   Df Residuals:                     1785\n",
      "Method:                           MLE   Df Model:                            3\n",
      "Date:                Sun, 20 Nov 2022   Pseudo R-squ.:                  0.2730\n",
      "Time:                        20:51:30   Log-Likelihood:                -319.95\n",
      "converged:                       True   LL-Null:                       -440.11\n",
      "Covariance Type:            nonrobust   LLR p-value:                 8.133e-52\n",
      "=======================================================================================\n",
      "                          coef    std err          z      P>|z|      [0.025      0.975]\n",
      "---------------------------------------------------------------------------------------\n",
      "const                  -4.3051      0.262    -16.423      0.000      -4.819      -3.791\n",
      "NumCatalogPurchases     0.1766      0.033      5.413      0.000       0.113       0.241\n",
      "Teenhome               -1.0729      0.236     -4.553      0.000      -1.535      -0.611\n",
      "MntWines                0.0026      0.000      9.145      0.000       0.002       0.003\n",
      "=======================================================================================\n"
     ]
    }
   ],
   "source": [
    "import statsmodels.api as sm\n",
    "\n",
    "\n",
    "Xlog2 = sm.add_constant(x_train) \n",
    "logr_model = sm.Logit(z_train, Xlog2) \n",
    "logr_fit = logr_model.fit()\n",
    "print(logr_fit.summary())\n"
   ]
  },
  {
   "cell_type": "code",
   "execution_count": 317,
   "id": "fbd3dc98",
   "metadata": {},
   "outputs": [
    {
     "data": {
      "text/plain": [
       "array([[416,   1],\n",
       "       [ 31,   0]], dtype=int64)"
      ]
     },
     "execution_count": 317,
     "metadata": {},
     "output_type": "execute_result"
    }
   ],
   "source": []
  },
  {
   "cell_type": "code",
   "execution_count": null,
   "id": "ef276a2e",
   "metadata": {},
   "outputs": [],
   "source": []
  },
  {
   "cell_type": "code",
   "execution_count": 327,
   "id": "d9948610",
   "metadata": {},
   "outputs": [
    {
     "name": "stdout",
     "output_type": "stream",
     "text": [
      "Classification report for balanced classes \n",
      "               precision    recall  f1-score   support\n",
      "\n",
      "           0       0.99      0.80      0.89       419\n",
      "           1       0.23      0.86      0.36        29\n",
      "\n",
      "    accuracy                           0.81       448\n",
      "   macro avg       0.61      0.83      0.63       448\n",
      "weighted avg       0.94      0.81      0.85       448\n",
      "\n"
     ]
    }
   ],
   "source": [
    "from sklearn.linear_model import LogisticRegression\n",
    "from sklearn.metrics import classification_report\n",
    "\n",
    "lr_bal=LogisticRegression(random_state=42,class_weight='balanced')\n",
    "lr_bal_model=lr_bal.fit(x_train,z_train)\n",
    "y_pred_cmp=lr_bal_model.predict(x_test)\n",
    "print('Classification report for balanced classes \\n',classification_report(z_test,y_pred_cmp))\n",
    "\n"
   ]
  },
  {
   "cell_type": "code",
   "execution_count": 328,
   "id": "f140d71f",
   "metadata": {},
   "outputs": [
    {
     "data": {
      "text/plain": [
       "array([[336,  83],\n",
       "       [  4,  25]], dtype=int64)"
      ]
     },
     "execution_count": 328,
     "metadata": {},
     "output_type": "execute_result"
    }
   ],
   "source": [
    "cnf_matrix = confusion_matrix(z_test, y_pred_cmp)\n",
    "cnf_matrix"
   ]
  },
  {
   "cell_type": "markdown",
   "id": "9d6d16ff",
   "metadata": {},
   "source": [
    "Run SVM"
   ]
  },
  {
   "cell_type": "code",
   "execution_count": 329,
   "id": "1cced7d3",
   "metadata": {},
   "outputs": [],
   "source": [
    "y_logr= df[['AcceptedCmp1']]\n",
    "x_logr= df.drop(['AcceptedCmp1','Education_Undergraduate','Z_CostContact','ID','Year_Birth','AcceptedCmp2','AcceptedCmp3','AcceptedCmp4','AcceptedCmp5','Complain','Z_Revenue','Dt_Customer','Response'],axis=1)\n",
    "\n",
    "from sklearn.model_selection import train_test_split\n",
    "x_train, x_test, z_train, z_test = train_test_split(x_logr, y_logr, test_size=0.20)"
   ]
  },
  {
   "cell_type": "code",
   "execution_count": 330,
   "id": "792a9382",
   "metadata": {},
   "outputs": [
    {
     "data": {
      "text/plain": [
       "array([[289, 130],\n",
       "       [  4,  25]], dtype=int64)"
      ]
     },
     "execution_count": 330,
     "metadata": {},
     "output_type": "execute_result"
    }
   ],
   "source": [
    "from sklearn import svm\n",
    "\n",
    "svm_model = svm.SVC(kernel='linear',class_weight='balanced') # Linear Kernel\n",
    "\n",
    "#Train the model using the training sets\n",
    "svm_model.fit(x_train, z_train)\n",
    "\n",
    "#Predict the response for test dataset\n",
    "z_pred = svm_model.predict(x_test)\n",
    "cnf_matrix = confusion_matrix(z_test, z_pred)\n",
    "cnf_matrix"
   ]
  },
  {
   "cell_type": "code",
   "execution_count": 331,
   "id": "6162f260",
   "metadata": {},
   "outputs": [
    {
     "name": "stdout",
     "output_type": "stream",
     "text": [
      "Classification report for balanced classes \n",
      "               precision    recall  f1-score   support\n",
      "\n",
      "           0       0.99      0.69      0.81       419\n",
      "           1       0.16      0.86      0.27        29\n",
      "\n",
      "    accuracy                           0.70       448\n",
      "   macro avg       0.57      0.78      0.54       448\n",
      "weighted avg       0.93      0.70      0.78       448\n",
      "\n"
     ]
    }
   ],
   "source": [
    "print('Classification report for balanced classes \\n',classification_report(z_test,z_pred))"
   ]
  },
  {
   "cell_type": "code",
   "execution_count": 216,
   "id": "4e634f43",
   "metadata": {},
   "outputs": [
    {
     "name": "stdout",
     "output_type": "stream",
     "text": [
      "Significant features from RFE Index(['Kidhome', 'Teenhome', 'NumDealsPurchases', 'NumWebPurchases',\n",
      "       'NumCatalogPurchases', 'Age', 'Education_Master', 'Education_PhD',\n",
      "       'Marital_Status_Married', 'Marital_Status_Single',\n",
      "       'Marital_Status_Together'],\n",
      "      dtype='object')\n"
     ]
    }
   ],
   "source": [
    "from sklearn.feature_selection import RFE\n",
    "svc_lin=SVC(kernel='linear')\n",
    "svm_rfe_model=RFE(estimator=svc_lin)\n",
    "svm_rfe_model_fit=svm_rfe_model.fit(x_train, z_train)\n",
    "feat_index = pd.Series(data = svm_rfe_model_fit.ranking_, index = x_train.columns)\n",
    "signi_feat_rfe = feat_index[feat_index==1].index\n",
    "print('Significant features from RFE',signi_feat_rfe)"
   ]
  },
  {
   "cell_type": "code",
   "execution_count": 340,
   "id": "7b556899",
   "metadata": {},
   "outputs": [],
   "source": [
    "y_logr= df[['AcceptedCmp1']]\n",
    "x_logr= df[['Teenhome','NumCatalogPurchases','MntWines']]\n",
    "\n",
    "from sklearn.model_selection import train_test_split\n",
    "x_train, x_test, z_train, z_test = train_test_split(x_logr, y_logr, test_size=0.20)"
   ]
  },
  {
   "cell_type": "code",
   "execution_count": 341,
   "id": "4e4cfab7",
   "metadata": {},
   "outputs": [
    {
     "data": {
      "text/plain": [
       "array([[334,  92],\n",
       "       [  6,  16]], dtype=int64)"
      ]
     },
     "execution_count": 341,
     "metadata": {},
     "output_type": "execute_result"
    }
   ],
   "source": [
    "from sklearn import svm\n",
    "\n",
    "svm_model = svm.SVC(kernel='linear',class_weight='balanced') # Linear Kernel\n",
    "\n",
    "#Train the model using the training sets\n",
    "svm_model.fit(x_train, z_train)\n",
    "\n",
    "#Predict the response for test dataset\n",
    "z_pred = svm_model.predict(x_test)\n",
    "cnf_matrix = confusion_matrix(z_test, z_pred)\n",
    "cnf_matrix"
   ]
  },
  {
   "cell_type": "code",
   "execution_count": 342,
   "id": "b7d97321",
   "metadata": {},
   "outputs": [
    {
     "name": "stdout",
     "output_type": "stream",
     "text": [
      "Classification report for balanced classes \n",
      "               precision    recall  f1-score   support\n",
      "\n",
      "           0       0.98      0.78      0.87       426\n",
      "           1       0.15      0.73      0.25        22\n",
      "\n",
      "    accuracy                           0.78       448\n",
      "   macro avg       0.57      0.76      0.56       448\n",
      "weighted avg       0.94      0.78      0.84       448\n",
      "\n"
     ]
    }
   ],
   "source": [
    "print('Classification report for balanced classes \\n',classification_report(z_test,z_pred))"
   ]
  }
 ],
 "metadata": {
  "kernelspec": {
   "display_name": "Python 3 (ipykernel)",
   "language": "python",
   "name": "python3"
  },
  "language_info": {
   "codemirror_mode": {
    "name": "ipython",
    "version": 3
   },
   "file_extension": ".py",
   "mimetype": "text/x-python",
   "name": "python",
   "nbconvert_exporter": "python",
   "pygments_lexer": "ipython3",
   "version": "3.9.13"
  }
 },
 "nbformat": 4,
 "nbformat_minor": 5
}
